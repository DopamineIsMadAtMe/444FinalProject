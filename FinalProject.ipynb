{
 "cells": [
  {
   "cell_type": "markdown",
   "id": "89652be8",
   "metadata": {},
   "source": [
    "### Section 1\n",
    "\n",
    "Initializing the Libraries into notebook"
   ]
  },
  {
   "cell_type": "code",
   "execution_count": null,
   "id": "45cc2ab7",
   "metadata": {},
   "outputs": [],
   "source": [
    "import numpy as np\n",
    "import pandas as pd\n",
    "import warnings\n",
    "\n",
    "warnings.filterwarnings('ignore') #ignoring some deprication warnings"
   ]
  },
  {
   "cell_type": "markdown",
   "id": "2f33bafc",
   "metadata": {},
   "source": [
    "Importing the raw data and checking for missing values"
   ]
  },
  {
   "cell_type": "code",
   "execution_count": 15,
   "id": "205f270b",
   "metadata": {},
   "outputs": [
    {
     "name": "stdout",
     "output_type": "stream",
     "text": [
      "<class 'pandas.core.frame.DataFrame'>\n",
      "RangeIndex: 1000000 entries, 0 to 999999\n",
      "Data columns (total 10 columns):\n",
      " #   Column                  Non-Null Count    Dtype  \n",
      "---  ------                  --------------    -----  \n",
      " 0   Region                  1000000 non-null  object \n",
      " 1   Soil_Type               1000000 non-null  object \n",
      " 2   Crop                    1000000 non-null  object \n",
      " 3   Rainfall_mm             1000000 non-null  float64\n",
      " 4   Temperature_Celsius     1000000 non-null  float64\n",
      " 5   Fertilizer_Used         1000000 non-null  bool   \n",
      " 6   Irrigation_Used         1000000 non-null  bool   \n",
      " 7   Weather_Condition       1000000 non-null  object \n",
      " 8   Days_to_Harvest         1000000 non-null  int64  \n",
      " 9   Yield_tons_per_hectare  1000000 non-null  float64\n",
      "dtypes: bool(2), float64(3), int64(1), object(4)\n",
      "memory usage: 62.9+ MB\n"
     ]
    }
   ],
   "source": [
    "df = pd.read_csv('crop_yield.csv')\n",
    "\n",
    "df.info()\n"
   ]
  },
  {
   "cell_type": "markdown",
   "id": "7471e908",
   "metadata": {},
   "source": [
    "### Check for NaN Values"
   ]
  },
  {
   "cell_type": "code",
   "execution_count": 14,
   "id": "ed0265dd",
   "metadata": {},
   "outputs": [
    {
     "name": "stdout",
     "output_type": "stream",
     "text": [
      "Number of NaN values in each column:\n",
      "Region                    0\n",
      "Soil_Type                 0\n",
      "Crop                      0\n",
      "Rainfall_mm               0\n",
      "Temperature_Celsius       0\n",
      "Fertilizer_Used           0\n",
      "Irrigation_Used           0\n",
      "Weather_Condition         0\n",
      "Days_to_Harvest           0\n",
      "Yield_tons_per_hectare    0\n",
      "dtype: int64\n"
     ]
    }
   ],
   "source": [
    "print(\"Number of NaN values in each column:\")\n",
    "print(df.isna().sum())"
   ]
  },
  {
   "cell_type": "markdown",
   "id": "294e4986",
   "metadata": {},
   "source": [
    "### Pre-Processing required. \n",
    "**Encoding**\n",
    "* Region\n",
    "* Soil Type\n",
    "* Crop\n",
    "* Weather Condition\n",
    "\n",
    "**Scaling**\n",
    "* Rainfall_mm\n",
    "* Temperature_Celsius \n",
    "* Days_to_Harvest\n",
    "* Yield_tons_per_hectare"
   ]
  },
  {
   "cell_type": "code",
   "execution_count": null,
   "id": "d35bfe41",
   "metadata": {},
   "outputs": [],
   "source": [
    "#Code area for pre-processing i guess"
   ]
  }
 ],
 "metadata": {
  "kernelspec": {
   "display_name": "Python 3",
   "language": "python",
   "name": "python3"
  },
  "language_info": {
   "codemirror_mode": {
    "name": "ipython",
    "version": 3
   },
   "file_extension": ".py",
   "mimetype": "text/x-python",
   "name": "python",
   "nbconvert_exporter": "python",
   "pygments_lexer": "ipython3",
   "version": "3.11.9"
  }
 },
 "nbformat": 4,
 "nbformat_minor": 5
}
